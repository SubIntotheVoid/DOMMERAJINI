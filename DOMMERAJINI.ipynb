from matplotlib import pyplot as plt
import numpy as np


# Generate 100 random data points along 3 dimensions
fig, ax = plt.subplots()

# Map each onto a scatterplot we'll create with Matplotlib
circle1 = plt.Circle((0, 0), 2, color='r')
ax.set(title="DOMME RAJINI, A MELHOR DOMME DO MUNDO")
ax.plot(0, 0, color='r')

circle = plt.Circle((-13, 15), 3, color='gray')
plt.gca().add_patch(circle)
circle = plt.Circle((-11, 15), 2, color='white')
plt.gca().add_patch(circle)
circle = plt.Circle((13, 15), 3, color='gray')
plt.gca().add_patch(circle)
circle = plt.Circle((11, 15), 2, color='white')
plt.gca().add_patch(circle)

circle = plt.Circle((-4, 12), 6.4, color='r')
plt.gca().add_patch(circle)
circle = plt.Circle((4, 12), 6.4, color='r')
plt.gca().add_patch(circle)


X = np.array([[1,1], [2,2.5], [3, 1], [0, 0], [-10.5, 12], [10.5, 12]])
triangle = plt.Polygon(X[3:6:1], color='r')
plt.gca().add_patch(triangle)

#plt.legend(['DOMME RAJINI         '], loc = 10, frameon=False, fontsize=20)

X = np.array([[1,1], [2,2.5], [3, 1], [-10.5, 12], [0,0], [-9, 0]])
triangle = plt.Polygon(X[3:6:1], color='white')
plt.gca().add_patch(triangle)

X = np.array([[1,1], [2,2.5], [3, 1], [10.5, 12], [0,0], [9, 0]])
triangle = plt.Polygon(X[3:6:1], color='white')
plt.gca().add_patch(triangle)

ax.annotate("DOMME RAJINI", xy=(0, 12),xytext=(-7.7, 11), fontsize=22, color = 'springgreen')

plt.show()